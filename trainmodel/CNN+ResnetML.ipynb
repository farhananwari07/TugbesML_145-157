{
  "nbformat": 4,
  "nbformat_minor": 0,
  "metadata": {
    "colab": {
      "name": "CNN+ResnetML.ipynb",
      "provenance": [],
      "collapsed_sections": [],
      "mount_file_id": "1I5hlD8zEIuuOUCwMOEBsvyB6HAtXkt50",
      "authorship_tag": "ABX9TyNomOR7ku83WoA4KuCdpBK1",
      "include_colab_link": true
    },
    "kernelspec": {
      "name": "python3",
      "display_name": "Python 3"
    },
    "language_info": {
      "name": "python"
    },
    "accelerator": "GPU"
  },
  "cells": [
    {
      "cell_type": "markdown",
      "metadata": {
        "id": "view-in-github",
        "colab_type": "text"
      },
      "source": [
        "<a href=\"https://colab.research.google.com/github/farhananwari07/TugbesML_145-157/blob/main/CNN%2BResnetML.ipynb\" target=\"_parent\"><img src=\"https://colab.research.google.com/assets/colab-badge.svg\" alt=\"Open In Colab\"/></a>"
      ]
    },
    {
      "cell_type": "code",
      "metadata": {
        "id": "eCUi0Kb8eiPd"
      },
      "source": [
        "import tensorflow as tf\n",
        "import numpy as np\n",
        "import os\n",
        "from matplotlib import pyplot as plt\n",
        "\n",
        "from keras.preprocessing import image\n",
        "from tensorflow.keras.preprocessing.image import ImageDataGenerator"
      ],
      "execution_count": null,
      "outputs": []
    },
    {
      "cell_type": "code",
      "metadata": {
        "id": "goY2Qh2df_e4"
      },
      "source": [
        "os.environ['KAGGLE_CONFIG_DIR'] = \"/content/drive/MyDrive/dataset\""
      ],
      "execution_count": null,
      "outputs": []
    },
    {
      "cell_type": "code",
      "metadata": {
        "colab": {
          "base_uri": "https://localhost:8080/"
        },
        "id": "1vHlZBzZoNqb",
        "outputId": "0f23d8ab-f982-4b22-9f0a-2c2027493d19"
      },
      "source": [
        "%cd /content/drive/MyDrive/dataset"
      ],
      "execution_count": null,
      "outputs": [
        {
          "output_type": "stream",
          "name": "stdout",
          "text": [
            "/content/drive/MyDrive/dataset\n"
          ]
        }
      ]
    },
    {
      "cell_type": "code",
      "metadata": {
        "colab": {
          "base_uri": "https://localhost:8080/"
        },
        "id": "bRYgXdotng5V",
        "outputId": "ac27dc01-e75f-45b9-b11a-583f9e6a63d1"
      },
      "source": [
        "!kaggle datasets download -d pranavraikokte/covid19-image-dataset"
      ],
      "execution_count": null,
      "outputs": [
        {
          "output_type": "stream",
          "name": "stdout",
          "text": [
            "Downloading covid19-image-dataset.zip to /content/drive/MyDrive/dataset\n",
            " 96% 152M/158M [00:01<00:00, 109MB/s]\n",
            "100% 158M/158M [00:01<00:00, 115MB/s]\n"
          ]
        }
      ]
    },
    {
      "cell_type": "code",
      "metadata": {
        "id": "Bn7afPOOo_jF"
      },
      "source": [
        "# Ekstrak dataset\n",
        "\n",
        "import os\n",
        "import zipfile\n",
        "\n",
        "local_zip = '/content/drive/MyDrive/dataset/covid19-image-dataset.zip'\n",
        "zip_ref = zipfile.ZipFile(local_zip, 'r')\n",
        "zip_ref.extractall('/content/drive/MyDrive/dataset/covid19')\n",
        "zip_ref.close()"
      ],
      "execution_count": null,
      "outputs": []
    },
    {
      "cell_type": "code",
      "metadata": {
        "id": "xV_0dYH0r71r"
      },
      "source": [
        "train = ImageDataGenerator(rescale=1/255)\n",
        "test = ImageDataGenerator(rescale=1/255)"
      ],
      "execution_count": null,
      "outputs": []
    },
    {
      "cell_type": "code",
      "metadata": {
        "id": "J9ZfFNGfsDJy",
        "colab": {
          "base_uri": "https://localhost:8080/"
        },
        "outputId": "e2aee3c2-fffd-4ef5-8ab5-aaa6a4ddef6d"
      },
      "source": [
        "train_dataset = train.flow_from_directory(\"/content/drive/MyDrive/dataset/covid19/Covid19-dataset/train\",\n",
        "                                          target_size = (224, 224),\n",
        "                                          batch_size = 32,\n",
        "                                          shuffle = False,\n",
        "                                          class_mode = 'categorical',\n",
        "                                          )\n",
        "                                     \n",
        "test_dataset = test.flow_from_directory(\"/content/drive/MyDrive/dataset/covid19/Covid19-dataset/test\",\n",
        "                                          target_size= (224, 224),\n",
        "                                          batch_size = 32,\n",
        "                                          shuffle = False,\n",
        "                                          class_mode = 'categorical')"
      ],
      "execution_count": null,
      "outputs": [
        {
          "output_type": "stream",
          "name": "stdout",
          "text": [
            "Found 251 images belonging to 3 classes.\n",
            "Found 66 images belonging to 3 classes.\n"
          ]
        }
      ]
    },
    {
      "cell_type": "code",
      "source": [
        "train_dataset.class_indices"
      ],
      "metadata": {
        "colab": {
          "base_uri": "https://localhost:8080/"
        },
        "id": "_1g0EOf7r0gf",
        "outputId": "2f24d9ad-b4fe-48e7-a245-b50a1693bae5"
      },
      "execution_count": null,
      "outputs": [
        {
          "output_type": "execute_result",
          "data": {
            "text/plain": [
              "{'Covid': 0, 'Normal': 1, 'Viral Pneumonia': 2}"
            ]
          },
          "metadata": {},
          "execution_count": 33
        }
      ]
    },
    {
      "cell_type": "code",
      "source": [
        "model = tf.keras.models.Sequential([\n",
        "    tf.keras.layers.Conv2D(32,(3,3),strides=(1, 1),activation='relu',padding='same', input_shape=(224, 224, 3)), \n",
        "    tf.keras.layers.MaxPooling2D(pool_size=(2,2)),\n",
        "    \n",
        "    tf.keras.layers.Conv2D(64,(3,3),strides=(1, 1) ,padding='same',activation='relu'),\n",
        "    tf.keras.layers.MaxPooling2D(pool_size=(2,2)),\n",
        "\n",
        "    tf.keras.layers.Conv2D(128,(3,3),strides=(1, 1),padding='same', activation='relu'),\n",
        "    tf.keras.layers.MaxPooling2D(pool_size=(2,2)),\n",
        "\n",
        "    tf.keras.layers.Conv2D(256,(3,3),strides=(1, 1),padding='same', activation='relu'),\n",
        "    tf.keras.layers.MaxPooling2D(pool_size=(2,2)),\n",
        "\n",
        "\n",
        "    tf.keras.layers.Flatten(),\n",
        "\n",
        "    tf.keras.layers.Dense(128, activation='relu'),\n",
        "    tf.keras.layers.Dense(64, activation='relu'),\n",
        "    tf.keras.layers.Dense(3, activation='softmax'),\n",
        "\n",
        "   \n",
        "\n",
        "  \n",
        "])"
      ],
      "metadata": {
        "id": "Bzqfd68Nr8v2"
      },
      "execution_count": null,
      "outputs": []
    },
    {
      "cell_type": "code",
      "source": [
        "from tensorflow.keras.optimizers import Adam\n",
        "\n",
        "# Compile model\n",
        "model.compile(loss='categorical_crossentropy',\n",
        "              optimizer=Adam(lr=0.001, decay = 0.001/10),\n",
        "              metrics=['acc'])"
      ],
      "metadata": {
        "colab": {
          "base_uri": "https://localhost:8080/"
        },
        "id": "4u2dTRkzsAHu",
        "outputId": "b885bb25-c8b0-42a0-b0d2-18e78de8769e"
      },
      "execution_count": null,
      "outputs": [
        {
          "output_type": "stream",
          "name": "stderr",
          "text": [
            "/usr/local/lib/python3.7/dist-packages/keras/optimizer_v2/adam.py:105: UserWarning: The `lr` argument is deprecated, use `learning_rate` instead.\n",
            "  super(Adam, self).__init__(name, **kwargs)\n"
          ]
        }
      ]
    },
    {
      "cell_type": "code",
      "source": [
        "model_fit = model.fit(train_dataset,\n",
        "            epochs = 15,\n",
        "            batch_size = 32,\n",
        "            validation_data = test_dataset)"
      ],
      "metadata": {
        "colab": {
          "base_uri": "https://localhost:8080/"
        },
        "id": "LBovaBWwsCVv",
        "outputId": "575d775d-5db2-4b2b-faab-adee87fa5728"
      },
      "execution_count": null,
      "outputs": [
        {
          "output_type": "stream",
          "name": "stdout",
          "text": [
            "Epoch 1/15\n",
            "8/8 [==============================] - 16s 2s/step - loss: 1.2475 - acc: 0.2191 - val_loss: 1.0994 - val_acc: 0.3030\n",
            "Epoch 2/15\n",
            "8/8 [==============================] - 14s 2s/step - loss: 1.1034 - acc: 0.3825 - val_loss: 1.0964 - val_acc: 0.3939\n",
            "Epoch 3/15\n",
            "8/8 [==============================] - 14s 2s/step - loss: 1.0957 - acc: 0.4422 - val_loss: 1.0916 - val_acc: 0.3939\n",
            "Epoch 4/15\n",
            "8/8 [==============================] - 14s 2s/step - loss: 1.1038 - acc: 0.4382 - val_loss: 1.0778 - val_acc: 0.3333\n",
            "Epoch 5/15\n",
            "8/8 [==============================] - 15s 2s/step - loss: 1.0564 - acc: 0.4502 - val_loss: 1.0491 - val_acc: 0.5000\n",
            "Epoch 6/15\n",
            "8/8 [==============================] - 14s 2s/step - loss: 0.9747 - acc: 0.6215 - val_loss: 1.0153 - val_acc: 0.5303\n",
            "Epoch 7/15\n",
            "8/8 [==============================] - 13s 2s/step - loss: 0.7755 - acc: 0.6733 - val_loss: 0.9717 - val_acc: 0.6364\n",
            "Epoch 8/15\n",
            "8/8 [==============================] - 14s 2s/step - loss: 0.6444 - acc: 0.7490 - val_loss: 0.9814 - val_acc: 0.6364\n",
            "Epoch 9/15\n",
            "8/8 [==============================] - 14s 2s/step - loss: 0.5454 - acc: 0.7809 - val_loss: 0.8819 - val_acc: 0.5758\n",
            "Epoch 10/15\n",
            "8/8 [==============================] - 13s 2s/step - loss: 0.3704 - acc: 0.8486 - val_loss: 0.7423 - val_acc: 0.6364\n",
            "Epoch 11/15\n",
            "8/8 [==============================] - 14s 2s/step - loss: 0.3285 - acc: 0.8645 - val_loss: 0.7012 - val_acc: 0.6212\n",
            "Epoch 12/15\n",
            "8/8 [==============================] - 14s 2s/step - loss: 0.2538 - acc: 0.9044 - val_loss: 0.6613 - val_acc: 0.6667\n",
            "Epoch 13/15\n",
            "8/8 [==============================] - 14s 2s/step - loss: 0.1919 - acc: 0.9323 - val_loss: 0.6507 - val_acc: 0.7576\n",
            "Epoch 14/15\n",
            "8/8 [==============================] - 18s 2s/step - loss: 0.1519 - acc: 0.9363 - val_loss: 0.7620 - val_acc: 0.8030\n",
            "Epoch 15/15\n",
            "8/8 [==============================] - 13s 2s/step - loss: 0.1655 - acc: 0.9243 - val_loss: 0.8731 - val_acc: 0.8030\n"
          ]
        }
      ]
    },
    {
      "cell_type": "code",
      "source": [
        ""
      ],
      "metadata": {
        "id": "hNCDarxE0B3I"
      },
      "execution_count": null,
      "outputs": []
    },
    {
      "cell_type": "code",
      "source": [
        "%cd /content/drive/MyDrive/dataset/covid19/saved model\n",
        "!ls"
      ],
      "metadata": {
        "colab": {
          "base_uri": "https://localhost:8080/"
        },
        "id": "Vd3760ivudd_",
        "outputId": "40747425-1be5-4899-81a5-cbdb7631aab5"
      },
      "execution_count": null,
      "outputs": [
        {
          "output_type": "stream",
          "name": "stdout",
          "text": [
            "/content/drive/MyDrive/dataset/covid19/saved model\n",
            " AccuracyPlotWMF.png   model2.h5     model4CNNbiasa.h5\n",
            "'Copy of Model.h5'     model2.json   model5Resnet50.h5\n",
            " LossPlotWMF.png       model3.h5     model6Resnet50.h5\n"
          ]
        }
      ]
    },
    {
      "cell_type": "code",
      "source": [
        "model.save(\"model4CNNbiasa.h5\")"
      ],
      "metadata": {
        "id": "zFrdeBZBuWgM"
      },
      "execution_count": null,
      "outputs": []
    },
    {
      "cell_type": "code",
      "source": [
        "del model, model_fit, test_dataset, train_dataset"
      ],
      "metadata": {
        "colab": {
          "base_uri": "https://localhost:8080/",
          "height": 173
        },
        "id": "Jq4FWQhrEL81",
        "outputId": "fd11714f-1ee4-40ad-a92a-d332fcb0c027"
      },
      "execution_count": null,
      "outputs": [
        {
          "output_type": "error",
          "ename": "NameError",
          "evalue": "ignored",
          "traceback": [
            "\u001b[0;31m---------------------------------------------------------------------------\u001b[0m",
            "\u001b[0;31mNameError\u001b[0m                                 Traceback (most recent call last)",
            "\u001b[0;32m<ipython-input-61-a67e55c09584>\u001b[0m in \u001b[0;36m<module>\u001b[0;34m()\u001b[0m\n\u001b[0;32m----> 1\u001b[0;31m \u001b[0;32mdel\u001b[0m \u001b[0mmodel\u001b[0m\u001b[0;34m,\u001b[0m \u001b[0mmodel_fit\u001b[0m\u001b[0;34m,\u001b[0m \u001b[0mtest_dataset\u001b[0m\u001b[0;34m,\u001b[0m \u001b[0mtrain_dataset\u001b[0m\u001b[0;34m\u001b[0m\u001b[0;34m\u001b[0m\u001b[0m\n\u001b[0m",
            "\u001b[0;31mNameError\u001b[0m: name 'model' is not defined"
          ]
        }
      ]
    },
    {
      "cell_type": "code",
      "source": [
        "plt.style.use(\"ggplot\")\n",
        "plt.figure()\n",
        "plt.plot(np.arange(0, 15), model_fit.history[\"loss\"], label=\"train_loss\")\n",
        "plt.plot(np.arange(0, 15), model_fit.history[\"val_loss\"], label=\"val_loss\")\n",
        "plt.title(\"Loss Plot\")\n",
        "plt.xlabel(\"Epoch #\")\n",
        "plt.ylabel(\"Loss\")\n",
        "plt.legend()\n",
        "plt.show()"
      ],
      "metadata": {
        "colab": {
          "base_uri": "https://localhost:8080/",
          "height": 299
        },
        "id": "b61aBLwU7Zs5",
        "outputId": "c78939ce-74fc-4490-8f26-cf814ae7cb62"
      },
      "execution_count": null,
      "outputs": [
        {
          "output_type": "display_data",
          "data": {
            "image/png": "[encoded data removed]",
            "text/plain": [
              "<Figure size 432x288 with 1 Axes>"
            ]
          },
          "metadata": {}
        }
      ]
    },
    {
      "cell_type": "code",
      "source": [
        "plt.style.use(\"ggplot\")\n",
        "plt.figure()\n",
        "plt.plot(np.arange(0, 15), model_fit.history[\"acc\"], label=\"train_acc\")\n",
        "plt.plot(np.arange(0, 15), model_fit.history[\"val_acc\"], label=\"val_acc\")\n",
        "plt.title(\"Accuracy Plot\")\n",
        "plt.xlabel(\"Epoch #\")\n",
        "plt.ylabel(\"Acc\")\n",
        "plt.legend()\n",
        "plt.show()"
      ],
      "metadata": {
        "colab": {
          "base_uri": "https://localhost:8080/",
          "height": 299
        },
        "id": "cokDkvwL8teL",
        "outputId": "50286a2d-86ee-4c58-ed23-1124f7555018"
      },
      "execution_count": null,
      "outputs": [
        {
          "output_type": "display_data",
          "data": {
            "image/png": "[encoded data removed]",
            "text/plain": [
              "<Figure size 432x288 with 1 Axes>"
            ]
          },
          "metadata": {}
        }
      ]
    },
    {
      "cell_type": "code",
      "source": [
        "from keras.models import load_model\n",
        "model = load_model('model4CNNbiasa.h5')"
      ],
      "metadata": {
        "id": "gZ-yzIYj5LTh"
      },
      "execution_count": null,
      "outputs": []
    },
    {
      "cell_type": "code",
      "source": [
        "from sklearn.metrics import classification_report, confusion_matrix\n",
        "labels = ['Normal','Covid19','Pnuemonia']"
      ],
      "metadata": {
        "id": "ngju3uwf8_rs"
      },
      "execution_count": null,
      "outputs": []
    },
    {
      "cell_type": "code",
      "source": [
        "import seaborn as sns\n",
        "def evaluate1(val_gen,model):\n",
        "  batch_size = 12\n",
        "  num_of_test_samples = len(val_gen.filenames)\n",
        "\n",
        "  Y_pred = model.predict(val_gen, num_of_test_samples // batch_size+1)\n",
        "  y_pred = np.argmax(Y_pred, axis=1)\n",
        "\n",
        "  cm = confusion_matrix(val_gen.classes, y_pred)\n",
        "  plt.figure(figsize=(8, 8))\n",
        "  sns.heatmap(cm, annot=True, fmt='g', vmin=0, cmap='Blues', cbar=False)\n",
        "  plt.xticks(ticks=[0.5, 1.5, 2.5], labels=labels)\n",
        "  plt.yticks(ticks=[0.5, 1.5, 2.5], labels=labels)\n",
        "  plt.xlabel(\"Predicted\")\n",
        "  plt.ylabel(\"Actual\")\n",
        "  plt.title(\"Confusion Matrix\")\n",
        "  plt.show()\n",
        "  print('\\n\\nClassification Report\\n')\n",
        "  target_names = ['Normal','Covid19','Pnuemonia']\n",
        "  print(classification_report(val_gen.classes, y_pred, target_names=target_names))"
      ],
      "metadata": {
        "id": "mw7S7_Eu9DSo"
      },
      "execution_count": null,
      "outputs": []
    },
    {
      "cell_type": "code",
      "source": [
        "evaluate1(test_dataset, model)"
      ],
      "metadata": {
        "colab": {
          "base_uri": "https://localhost:8080/",
          "height": 773
        },
        "id": "TZEylpkq9HN7",
        "outputId": "ce25ba9a-0cc7-4c4d-8e38-26b61fe2e695"
      },
      "execution_count": null,
      "outputs": [
        {
          "output_type": "display_data",
          "data": {
            "image/png": "[encoded data removed]",
            "text/plain": [
              "<Figure size 576x576 with 1 Axes>"
            ]
          },
          "metadata": {
            "needs_background": "light"
          }
        },
        {
          "output_type": "stream",
          "name": "stdout",
          "text": [
            "\n",
            "\n",
            "Classification Report\n",
            "\n",
            "              precision    recall  f1-score   support\n",
            "\n",
            "      Normal       0.96      0.88      0.92        26\n",
            "     Covid19       0.75      0.75      0.75        20\n",
            "   Pnuemonia       0.68      0.75      0.71        20\n",
            "\n",
            "    accuracy                           0.80        66\n",
            "   macro avg       0.80      0.79      0.79        66\n",
            "weighted avg       0.81      0.80      0.81        66\n",
            "\n"
          ]
        }
      ]
    },
    {
      "cell_type": "code",
      "source": [
        "%cd /content/drive/MyDrive/dataset/covid19/saved model"
      ],
      "metadata": {
        "colab": {
          "base_uri": "https://localhost:8080/"
        },
        "id": "ZFIO8FQaKAvM",
        "outputId": "caf3c157-3ad8-40a7-c34e-9d91f89643cd"
      },
      "execution_count": null,
      "outputs": [
        {
          "output_type": "stream",
          "name": "stdout",
          "text": [
            "/content/drive/MyDrive/dataset/covid19/saved model\n"
          ]
        }
      ]
    },
    {
      "cell_type": "code",
      "source": [
        "from keras.models import model_from_json\n",
        "# serialize model to JSON\n",
        "model_json = model.to_json()\n",
        "with open(\"model1.json\", \"w\") as json_file:\n",
        "    json_file.write(model_json)\n",
        "# serialize weights to HDF5\n",
        "model.save_weights(\"model1.h5\")\n",
        "print(\"Saved model to disk\")"
      ],
      "metadata": {
        "colab": {
          "base_uri": "https://localhost:8080/"
        },
        "id": "zdeLqgqjJ4dB",
        "outputId": "e0e83ed3-ab20-4ecd-aad5-ef98b60be3ae"
      },
      "execution_count": null,
      "outputs": [
        {
          "output_type": "stream",
          "name": "stdout",
          "text": [
            "Saved model to disk\n"
          ]
        }
      ]
    },
    {
      "cell_type": "code",
      "source": [
        "from keras.models import model_from_json\n",
        "# serialize model to JSON\n",
        "model_json = model.to_json()\n",
        "with open(\"model2.json\", \"w\") as json_file:\n",
        "    json_file.write(model_json)\n",
        "# serialize weights to HDF5\n",
        "model.save_weights(\"model2.h5\")\n",
        "print(\"Saved model to disk\")"
      ],
      "metadata": {
        "colab": {
          "base_uri": "https://localhost:8080/"
        },
        "id": "J4ObVkanO5nX",
        "outputId": "18a8af8a-b0f9-472f-9a51-a7382e954e09"
      },
      "execution_count": null,
      "outputs": [
        {
          "output_type": "stream",
          "name": "stdout",
          "text": [
            "Saved model to disk\n"
          ]
        }
      ]
    },
    {
      "cell_type": "code",
      "source": [
        "from keras.models import load_model\n",
        "model = load_model('/content/drive/MyDrive/dataset/covid19/saved model/Copy of Model.h5')"
      ],
      "metadata": {
        "id": "OU1mjbAKyLNI"
      },
      "execution_count": null,
      "outputs": []
    },
    {
      "cell_type": "code",
      "source": [
        "del model"
      ],
      "metadata": {
        "id": "e6QQPvL-y5gL"
      },
      "execution_count": null,
      "outputs": []
    },
    {
      "cell_type": "code",
      "source": [
        "import numpy as np\n",
        "import matplotlib.pyplot as plt\n",
        "import matplotlib.image as mping"
      ],
      "metadata": {
        "id": "jVt9pEsYyf89"
      },
      "execution_count": null,
      "outputs": []
    },
    {
      "cell_type": "code",
      "source": [
        "from PIL import Image\n",
        "from keras.preprocessing import image\n",
        "label =  {0:\"covid\",1:\"normal\",2:'pneumonia'}\n",
        "\n",
        "img_ = image.load_img(\"/content/drive/MyDrive/dataset/covid19/Covid19-dataset/test/Viral Pneumonia/0113.jpeg\", target_size=(224, 224))\n",
        "imag = image.img_to_array(img_)\n",
        "imag = np.expand_dims(imag, axis=0)\n",
        "pred = model.predict(imag)\n",
        "pred = np.argmax(pred,axis=1)\n",
        "print(pred)\n",
        "print(label[pred[0]])\n",
        "plt.imshow(img_)"
      ],
      "metadata": {
        "id": "k3qSaSBhsckR",
        "colab": {
          "base_uri": "https://localhost:8080/",
          "height": 325
        },
        "outputId": "329b0415-2c30-4982-b36e-3c7768ac02a1"
      },
      "execution_count": null,
      "outputs": [
        {
          "output_type": "stream",
          "name": "stdout",
          "text": [
            "[2]\n",
            "pneumonia\n"
          ]
        },
        {
          "output_type": "execute_result",
          "data": {
            "text/plain": [
              "<matplotlib.image.AxesImage at 0x7f7509c5fed0>"
            ]
          },
          "metadata": {},
          "execution_count": 19
        },
        {
          "output_type": "display_data",
          "data": {
            "image/png": "[encoded data removed]",
            "text/plain": [
              "<Figure size 432x288 with 1 Axes>"
            ]
          },
          "metadata": {
            "needs_background": "light"
          }
        }
      ]
    },
    {
      "cell_type": "code",
      "source": [
        "import os\n",
        "import argparse\n",
        "import numpy as np\n",
        "from imutils import paths\n",
        "import matplotlib.pyplot as plt\n",
        "from tensorflow.keras.layers import Dense\n",
        "from tensorflow.keras.layers import Input\n",
        "from tensorflow.keras.models import Model\n",
        "from sklearn.metrics import accuracy_score\n",
        "from tensorflow.keras.layers import Dropout\n",
        "from tensorflow.keras.layers import Flatten\n",
        "from tensorflow.keras.optimizers import Adam\n",
        "from sklearn.preprocessing import LabelEncoder\n",
        "from sklearn.metrics import classification_report\n",
        "from tensorflow.keras.utils import to_categorical\n",
        "from tensorflow.keras.applications import ResNet50\n",
        "from sklearn.model_selection import train_test_split\n",
        "from tensorflow.keras.layers import AveragePooling2D\n",
        "from tensorflow.keras.preprocessing.image import load_img\n",
        "from tensorflow.keras.preprocessing.image import img_to_array\n",
        "from tensorflow.keras.preprocessing.image import ImageDataGenerator\n",
        "from tensorflow.keras.applications.resnet import preprocess_input"
      ],
      "metadata": {
        "id": "arzL-QH6ujmj"
      },
      "execution_count": null,
      "outputs": []
    },
    {
      "cell_type": "code",
      "source": [
        "imagePathsTrain = list(paths.list_images(\"/content/drive/MyDrive/dataset/covid19/Covid19-dataset/train\"))\n",
        "trainX = []\n",
        "trainY = []\n",
        "\n",
        "for imagePath in imagePathsTrain:\n",
        "\n",
        "\tlabel = imagePath.split(os.path.sep)[-2]\n",
        "\timage = load_img(imagePath, target_size=(224, 224))\n",
        "\timage = img_to_array(image)\n",
        "\timage = preprocess_input(image)\n",
        "\ttrainX.append(image)\n",
        "\ttrainY.append(label)\n",
        "\n",
        "trainX = np.array(trainX, dtype=\"float32\")\n",
        "trainY = np.array(trainY)\n",
        "\n",
        "lb = LabelEncoder()\n",
        "trainY = lb.fit_transform(trainY)\n",
        "trainY = to_categorical(trainY)"
      ],
      "metadata": {
        "id": "pgFWnLLLuPlN"
      },
      "execution_count": null,
      "outputs": []
    },
    {
      "cell_type": "code",
      "source": [
        "imagePathsTest = list(paths.list_images(\"/content/drive/MyDrive/dataset/covid19/Covid19-dataset/test\"))\n",
        "testX = []\n",
        "testY = []\n",
        "\n",
        "for imagePath in imagePathsTest:\n",
        "\n",
        "\tlabel = imagePath.split(os.path.sep)[-2]\n",
        "\timage = load_img(imagePath, target_size=(224, 224))\n",
        "\timage = img_to_array(image)\n",
        "\timage = preprocess_input(image)\n",
        "\ttestX.append(image)\n",
        "\ttestY.append(label)\n",
        "\n",
        "testX = np.array(testX, dtype=\"float32\")\n",
        "testY = np.array(testY)\n",
        "\n",
        "lb = LabelEncoder()\n",
        "testY = lb.fit_transform(testY)\n",
        "testY = to_categorical(testY)"
      ],
      "metadata": {
        "id": "NYPKRz_BvL6M"
      },
      "execution_count": null,
      "outputs": []
    },
    {
      "cell_type": "code",
      "source": [
        "trainX, valX, trainY, valY = train_test_split(trainX, trainY, test_size=0.2, random_state=42, stratify=trainY)"
      ],
      "metadata": {
        "id": "etyKNM0lvSaH"
      },
      "execution_count": null,
      "outputs": []
    },
    {
      "cell_type": "code",
      "source": [
        "print(\"SHAPE OF TRAIN FEATURES: \"+str(trainX.shape))\n",
        "print(\"SHAPE OF TRAIN LABELS: \"+str(trainY.shape))\n",
        "print(\"SHAPE OF VALIDATION FEATURES: \"+str(valX.shape))\n",
        "print(\"SHAPE OF VALIDATION LABELS: \"+str(valY.shape))\n",
        "print(\"SHAPE OF TEST FEATURES: \"+str(testX.shape))\n",
        "print(\"SHAPE OF TEST LABELS: \"+str(testY.shape))"
      ],
      "metadata": {
        "colab": {
          "base_uri": "https://localhost:8080/"
        },
        "id": "3QHXeyqMvW0H",
        "outputId": "9143e87c-933d-4f91-d0f8-59ef5e6fa1e5"
      },
      "execution_count": null,
      "outputs": [
        {
          "output_type": "stream",
          "name": "stdout",
          "text": [
            "SHAPE OF TRAIN FEATURES: (200, 224, 224, 3)\n",
            "SHAPE OF TRAIN LABELS: (200, 3)\n",
            "SHAPE OF VALIDATION FEATURES: (51, 224, 224, 3)\n",
            "SHAPE OF VALIDATION LABELS: (51, 3)\n",
            "SHAPE OF TEST FEATURES: (66, 224, 224, 3)\n",
            "SHAPE OF TEST LABELS: (66, 3)\n"
          ]
        }
      ]
    },
    {
      "cell_type": "code",
      "source": [
        "aug = ImageDataGenerator(\n",
        "\trotation_range=20,\n",
        "\tzoom_range=0.15,\n",
        "\twidth_shift_range=0.2,\n",
        "\theight_shift_range=0.2,\n",
        "\tshear_range=0.15,\n",
        "\thorizontal_flip=True,\n",
        "\tfill_mode=\"nearest\")"
      ],
      "metadata": {
        "id": "5_hXjhsey_JM"
      },
      "execution_count": null,
      "outputs": []
    },
    {
      "cell_type": "code",
      "source": [
        "INIT_LR = 1e-4\n",
        "EPOCHS = 15\n",
        "BS = 32"
      ],
      "metadata": {
        "id": "Lwg2SD7lzBNk"
      },
      "execution_count": null,
      "outputs": []
    },
    {
      "cell_type": "code",
      "source": [
        "baseModel = ResNet50(weights=\"imagenet\", include_top=False, input_tensor=Input(shape=(224, 224, 3)))\n",
        "\n",
        "headModel = baseModel.output\n",
        "headModel = AveragePooling2D(pool_size=(7,7))(headModel)\n",
        "headModel = Flatten(name=\"flatten\")(headModel)\n",
        "headModel = Dense(128, activation=\"relu\")(headModel)\n",
        "headModel = Dropout(0.5)(headModel)\n",
        "headModel = Dense(64, activation=\"relu\")(headModel)\n",
        "headModel = Dropout(0.2)(headModel)\n",
        "headModel = Dense(3, activation=\"softmax\")(headModel)\n",
        "\n",
        "model = Model(inputs=baseModel.input, outputs=headModel)\n",
        "\n",
        "for layer in baseModel.layers:\n",
        "\tlayer.trainable = True\n",
        "\n",
        "opt = Adam(lr=INIT_LR, decay=INIT_LR/EPOCHS)\n",
        "model.compile(loss=\"categorical_crossentropy\", optimizer=opt, metrics=[\"accuracy\"])"
      ],
      "metadata": {
        "colab": {
          "base_uri": "https://localhost:8080/"
        },
        "id": "KnxEx7rxzCx7",
        "outputId": "011eff26-8b99-4659-ad66-9f794cf27992"
      },
      "execution_count": null,
      "outputs": [
        {
          "output_type": "stream",
          "name": "stdout",
          "text": [
            "Downloading data from https://storage.googleapis.com/tensorflow/keras-applications/resnet/resnet50_weights_tf_dim_ordering_tf_kernels_notop.h5\n",
            "94773248/94765736 [==============================] - 1s 0us/step\n",
            "94781440/94765736 [==============================] - 1s 0us/step\n"
          ]
        },
        {
          "output_type": "stream",
          "name": "stderr",
          "text": [
            "/usr/local/lib/python3.7/dist-packages/keras/optimizer_v2/adam.py:105: UserWarning: The `lr` argument is deprecated, use `learning_rate` instead.\n",
            "  super(Adam, self).__init__(name, **kwargs)\n"
          ]
        }
      ]
    },
    {
      "cell_type": "code",
      "source": [
        "del model, HR"
      ],
      "metadata": {
        "id": "-l3hqTBP1EGM"
      },
      "execution_count": null,
      "outputs": []
    },
    {
      "cell_type": "code",
      "source": [
        "HR = model.fit(\n",
        "\taug.flow(trainX, trainY, batch_size=BS, shuffle=False),\n",
        "\tsteps_per_epoch=len(trainX) // BS,\n",
        "\tvalidation_data=(valX, valY),\n",
        "\tvalidation_steps=len(valX) // BS,\n",
        "\tepochs= 15)"
      ],
      "metadata": {
        "colab": {
          "base_uri": "https://localhost:8080/"
        },
        "id": "TU2L6qRHzE17",
        "outputId": "8daf805d-36b7-4c83-f8aa-04df76a62d51"
      },
      "execution_count": null,
      "outputs": [
        {
          "output_type": "stream",
          "name": "stdout",
          "text": [
            "Epoch 1/15\n",
            "6/6 [==============================] - 27s 2s/step - loss: 1.1247 - accuracy: 0.3929 - val_loss: 0.8452 - val_accuracy: 0.5686\n",
            "Epoch 2/15\n",
            "6/6 [==============================] - 5s 731ms/step - loss: 0.8012 - accuracy: 0.6354 - val_loss: 0.5829 - val_accuracy: 0.7059\n",
            "Epoch 3/15\n",
            "6/6 [==============================] - 4s 652ms/step - loss: 0.6135 - accuracy: 0.7679 - val_loss: 0.4442 - val_accuracy: 0.9020\n",
            "Epoch 4/15\n",
            "6/6 [==============================] - 4s 689ms/step - loss: 0.4106 - accuracy: 0.8452 - val_loss: 0.3718 - val_accuracy: 0.8235\n",
            "Epoch 5/15\n",
            "6/6 [==============================] - 5s 797ms/step - loss: 0.2942 - accuracy: 0.9271 - val_loss: 0.5191 - val_accuracy: 0.8039\n",
            "Epoch 6/15\n",
            "6/6 [==============================] - 4s 687ms/step - loss: 0.2754 - accuracy: 0.8988 - val_loss: 0.6711 - val_accuracy: 0.8039\n",
            "Epoch 7/15\n",
            "6/6 [==============================] - 4s 687ms/step - loss: 0.2643 - accuracy: 0.8750 - val_loss: 1.0957 - val_accuracy: 0.7647\n",
            "Epoch 8/15\n",
            "6/6 [==============================] - 5s 736ms/step - loss: 0.2092 - accuracy: 0.9271 - val_loss: 1.4434 - val_accuracy: 0.7255\n",
            "Epoch 9/15\n",
            "6/6 [==============================] - 4s 690ms/step - loss: 0.2161 - accuracy: 0.9048 - val_loss: 1.5681 - val_accuracy: 0.7059\n",
            "Epoch 10/15\n",
            "6/6 [==============================] - 4s 656ms/step - loss: 0.1838 - accuracy: 0.9345 - val_loss: 1.6577 - val_accuracy: 0.7255\n",
            "Epoch 11/15\n",
            "6/6 [==============================] - 4s 691ms/step - loss: 0.1419 - accuracy: 0.9583 - val_loss: 1.6993 - val_accuracy: 0.7255\n",
            "Epoch 12/15\n",
            "6/6 [==============================] - 4s 772ms/step - loss: 0.1307 - accuracy: 0.9524 - val_loss: 1.9755 - val_accuracy: 0.6863\n",
            "Epoch 13/15\n",
            "6/6 [==============================] - 4s 655ms/step - loss: 0.1171 - accuracy: 0.9643 - val_loss: 1.6196 - val_accuracy: 0.7451\n",
            "Epoch 14/15\n",
            "6/6 [==============================] - 4s 689ms/step - loss: 0.0747 - accuracy: 0.9702 - val_loss: 1.3764 - val_accuracy: 0.7451\n",
            "Epoch 15/15\n",
            "6/6 [==============================] - 4s 689ms/step - loss: 0.1129 - accuracy: 0.9643 - val_loss: 1.0711 - val_accuracy: 0.8431\n"
          ]
        }
      ]
    },
    {
      "cell_type": "code",
      "source": [
        "model.save(\"model10Resnet50.h5\")"
      ],
      "metadata": {
        "colab": {
          "base_uri": "https://localhost:8080/"
        },
        "id": "wG5XNmcj3bsU",
        "outputId": "781cbbad-f643-4d1d-fbd5-4e404f3bccff"
      },
      "execution_count": null,
      "outputs": [
        {
          "output_type": "stream",
          "name": "stderr",
          "text": [
            "/usr/local/lib/python3.7/dist-packages/keras/engine/functional.py:1410: CustomMaskWarning: Custom mask layers require a config and must override get_config. When loading, the custom mask layer must be passed to the custom_objects argument.\n",
            "  layer_config = serialize_layer_fn(layer)\n"
          ]
        }
      ]
    },
    {
      "cell_type": "code",
      "source": [
        "predIdxs = model.predict(testX, batch_size=BS)\n",
        "predIdxs = np.argmax(predIdxs, axis=1)\n",
        "\n",
        "Accuracy = (accuracy_score(testY.argmax(axis=1),predIdxs)*100)\n",
        "print('TEST ACCURACY in Percentage:', round(Accuracy,2),'%')\n",
        "print(\"\")\n",
        "print(\"-------------------------------------------------------------------\")\n",
        "print(\"\")\n",
        "print(\"CLASSIFICATION REPORT:\")\n",
        "print(\"\")\n",
        "print(classification_report(testY.argmax(axis=1), predIdxs, target_names=lb.classes_))"
      ],
      "metadata": {
        "colab": {
          "base_uri": "https://localhost:8080/"
        },
        "id": "uyRw9YJy0gPX",
        "outputId": "589316fb-89c5-4dec-fd24-c76112c1f85a"
      },
      "execution_count": null,
      "outputs": [
        {
          "output_type": "stream",
          "name": "stdout",
          "text": [
            "TEST ACCURACY in Percentage: 86.36 %\n",
            "\n",
            "-------------------------------------------------------------------\n",
            "\n",
            "CLASSIFICATION REPORT:\n",
            "\n",
            "                 precision    recall  f1-score   support\n",
            "\n",
            "          Covid       1.00      0.85      0.92        26\n",
            "         Normal       0.69      1.00      0.82        20\n",
            "Viral Pneumonia       1.00      0.75      0.86        20\n",
            "\n",
            "       accuracy                           0.86        66\n",
            "      macro avg       0.90      0.87      0.86        66\n",
            "   weighted avg       0.91      0.86      0.87        66\n",
            "\n"
          ]
        }
      ]
    },
    {
      "cell_type": "code",
      "source": [
        "N = EPOCHS\n",
        "\n",
        "plt.figure()\n",
        "plt.plot(np.arange(0, N), HR.history[\"loss\"], label=\"Training Loss\")\n",
        "plt.plot(np.arange(0, N), HR.history[\"val_loss\"], label=\"Validation Loss\")\n",
        "plt.title(\"Training Loss and Validation Loss\")\n",
        "plt.xlabel(\"Epoch\")\n",
        "plt.ylabel(\"Loss\")\n",
        "plt.legend(loc=\"lower left\")\n",
        "plt.savefig(\"LossPlotWMF.png\")"
      ],
      "metadata": {
        "colab": {
          "base_uri": "https://localhost:8080/",
          "height": 295
        },
        "id": "PJfSwUp50mC8",
        "outputId": "7b106afe-8da4-4b46-8856-b2f56c95fa9f"
      },
      "execution_count": null,
      "outputs": [
        {
          "output_type": "display_data",
          "data": {
            "image/png": "[encoded data removed]",
            "text/plain": [
              "<Figure size 432x288 with 1 Axes>"
            ]
          },
          "metadata": {
            "needs_background": "light"
          }
        }
      ]
    },
    {
      "cell_type": "code",
      "source": [
        "plt.figure()\n",
        "plt.plot(np.arange(0, N), HR.history[\"accuracy\"], label=\"Training Accuracy\")\n",
        "plt.plot(np.arange(0, N), HR.history[\"val_accuracy\"], label=\"Validation Accuracy\")\n",
        "plt.title(\"Training Accuracy and Validation Accuracy\")\n",
        "plt.xlabel(\"Epoch\")\n",
        "plt.ylabel(\"Accuracy\")\n",
        "plt.legend(loc=\"lower left\")\n",
        "plt.savefig(\"AccuracyPlotWMF.png\")"
      ],
      "metadata": {
        "colab": {
          "base_uri": "https://localhost:8080/",
          "height": 295
        },
        "id": "_GQB2ALC0pqr",
        "outputId": "2174ef6b-0683-4b91-d8ec-a55c829b658d"
      },
      "execution_count": null,
      "outputs": [
        {
          "output_type": "display_data",
          "data": {
            "image/png": "[encoded data removed]",
            "text/plain": [
              "<Figure size 432x288 with 1 Axes>"
            ]
          },
          "metadata": {
            "needs_background": "light"
          }
        }
      ]
    }
  ]
}
