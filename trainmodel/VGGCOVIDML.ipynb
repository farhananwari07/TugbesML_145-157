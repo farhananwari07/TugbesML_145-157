{
  "nbformat": 4,
  "nbformat_minor": 0,
  "metadata": {
    "colab": {
      "name": "VGGCOVIDML.ipynb",
      "provenance": [],
      "mount_file_id": "1ylGyrvJBnmpF-Mayp0wK_ja5bcJgAgwB",
      "authorship_tag": "ABX9TyPnXzvod0k1CaByT0iQJbv6",
      "include_colab_link": true
    },
    "kernelspec": {
      "name": "python3",
      "display_name": "Python 3"
    },
    "language_info": {
      "name": "python"
    }
  },
  "cells": [
    {
      "cell_type": "markdown",
      "metadata": {
        "id": "view-in-github",
        "colab_type": "text"
      },
      "source": [
        "<a href=\"https://colab.research.google.com/github/farhananwari07/TugbesML_145-157/blob/main/VGGCOVIDML.ipynb\" target=\"_parent\"><img src=\"https://colab.research.google.com/assets/colab-badge.svg\" alt=\"Open In Colab\"/></a>"
      ]
    },
    {
      "cell_type": "code",
      "execution_count": null,
      "metadata": {
        "id": "Md7HYe-O6paD"
      },
      "outputs": [],
      "source": [
        "from tensorflow.keras.layers import Input, Lambda, Dense, Flatten\n",
        "from tensorflow.keras.models import Model\n",
        "from tensorflow.keras.applications.resnet50 import ResNet50\n",
        "from keras.applications.vgg16 import VGG16\n",
        "from tensorflow.keras.applications.resnet50 import preprocess_input\n",
        "from tensorflow.keras.preprocessing import image\n",
        "from tensorflow.keras.preprocessing.image import ImageDataGenerator,load_img\n",
        "from tensorflow.keras.models import Sequential\n",
        "import numpy as np\n",
        "from glob import glob\n",
        "import matplotlib.pyplot as plt\n"
      ]
    },
    {
      "cell_type": "code",
      "source": [
        "import os\n",
        "import argparse\n",
        "import numpy as np\n",
        "from imutils import paths\n",
        "import matplotlib.pyplot as plt\n",
        "from tensorflow.keras.layers import Dense\n",
        "from tensorflow.keras.layers import Input\n",
        "from tensorflow.keras.models import Model\n",
        "from sklearn.metrics import accuracy_score\n",
        "from tensorflow.keras.layers import Dropout\n",
        "from tensorflow.keras.layers import Flatten\n",
        "from tensorflow.keras.optimizers import Adam\n",
        "from sklearn.preprocessing import LabelEncoder\n",
        "from sklearn.metrics import classification_report\n",
        "from tensorflow.keras.utils import to_categorical\n",
        "from tensorflow.keras.applications import ResNet50\n",
        "from sklearn.model_selection import train_test_split\n",
        "from tensorflow.keras.layers import AveragePooling2D\n",
        "from tensorflow.keras.preprocessing.image import load_img\n",
        "from tensorflow.keras.preprocessing.image import img_to_array\n",
        "from tensorflow.keras.preprocessing.image import ImageDataGenerator\n",
        "from tensorflow.keras.applications.resnet import preprocess_input"
      ],
      "metadata": {
        "id": "jcZlk90lX2n3"
      },
      "execution_count": null,
      "outputs": []
    },
    {
      "cell_type": "code",
      "source": [
        "imagePathsTest = list(paths.list_images(\"/content/drive/MyDrive/dataset/covid19/Covid19-dataset/test\"))\n",
        "testX = []\n",
        "testY = []\n",
        "\n",
        "for imagePath in imagePathsTest:\n",
        "\n",
        "\tlabel = imagePath.split(os.path.sep)[-2]\n",
        "\timage = load_img(imagePath, target_size=(224, 224))\n",
        "\timage = img_to_array(image)\n",
        "\timage = preprocess_input(image)\n",
        "\ttestX.append(image)\n",
        "\ttestY.append(label)\n",
        "\n",
        "testX = np.array(testX, dtype=\"float32\")\n",
        "testY = np.array(testY)\n",
        "\n",
        "lb = LabelEncoder()\n",
        "testY = lb.fit_transform(testY)\n",
        "testY = to_categorical(testY)"
      ],
      "metadata": {
        "id": "L5WsvVszX7qf"
      },
      "execution_count": null,
      "outputs": []
    },
    {
      "cell_type": "code",
      "source": [
        "\n",
        "\n",
        "IMAGE_SIZE = [224, 224] \n",
        "\n",
        "train_path = '/content/drive/MyDrive/dataset/covid19/Covid19-dataset/train'\n",
        "valid_path = '/content/drive/MyDrive/dataset/covid19/Covid19-dataset/test'\n",
        "\n"
      ],
      "metadata": {
        "id": "-auZa-Ih62-X"
      },
      "execution_count": null,
      "outputs": []
    },
    {
      "cell_type": "code",
      "source": [
        "\n",
        "\n",
        "vgg = VGG16(input_shape=IMAGE_SIZE + [3], weights='imagenet', include_top=False)\n",
        "\n"
      ],
      "metadata": {
        "colab": {
          "base_uri": "https://localhost:8080/"
        },
        "id": "JckqVv2I6-A1",
        "outputId": "58487a68-8bd2-4d46-c785-184cbabfd136"
      },
      "execution_count": null,
      "outputs": [
        {
          "output_type": "stream",
          "name": "stdout",
          "text": [
            "Downloading data from https://storage.googleapis.com/tensorflow/keras-applications/vgg16/vgg16_weights_tf_dim_ordering_tf_kernels_notop.h5\n",
            "58892288/58889256 [==============================] - 1s 0us/step\n",
            "58900480/58889256 [==============================] - 1s 0us/step\n"
          ]
        }
      ]
    },
    {
      "cell_type": "code",
      "source": [
        "\n",
        "\n",
        "for layer in vgg.layers:\n",
        "  layer.trainable=False\n",
        "\n"
      ],
      "metadata": {
        "id": "2zMOw9oD7A0l"
      },
      "execution_count": null,
      "outputs": []
    },
    {
      "cell_type": "code",
      "source": [
        "folders=glob( '../input/covid19-image-dataset/Covid19-dataset/train/*')"
      ],
      "metadata": {
        "id": "F_4a_hzE7DSc"
      },
      "execution_count": null,
      "outputs": []
    },
    {
      "cell_type": "code",
      "source": [
        "x=Flatten()(vgg.output)\n",
        "\n",
        "prediction=Dense(3,activation='softmax')(x)\n",
        "\n",
        "\n",
        "model = Model(inputs=vgg.input, outputs=prediction)"
      ],
      "metadata": {
        "id": "8bCs6h7x7E00"
      },
      "execution_count": null,
      "outputs": []
    },
    {
      "cell_type": "code",
      "source": [
        "del model"
      ],
      "metadata": {
        "id": "Ea4iekmJ8TYu"
      },
      "execution_count": null,
      "outputs": []
    },
    {
      "cell_type": "code",
      "source": [
        "\n",
        "\n",
        "model.summary()\n",
        "\n"
      ],
      "metadata": {
        "colab": {
          "base_uri": "https://localhost:8080/"
        },
        "id": "A7qkNBud7IuE",
        "outputId": "76fcf8e6-940c-4b4b-e84d-6638debb6604"
      },
      "execution_count": null,
      "outputs": [
        {
          "output_type": "stream",
          "name": "stdout",
          "text": [
            "Model: \"model\"\n",
            "_________________________________________________________________\n",
            " Layer (type)                Output Shape              Param #   \n",
            "=================================================================\n",
            " input_1 (InputLayer)        [(None, 224, 224, 3)]     0         \n",
            "                                                                 \n",
            " block1_conv1 (Conv2D)       (None, 224, 224, 64)      1792      \n",
            "                                                                 \n",
            " block1_conv2 (Conv2D)       (None, 224, 224, 64)      36928     \n",
            "                                                                 \n",
            " block1_pool (MaxPooling2D)  (None, 112, 112, 64)      0         \n",
            "                                                                 \n",
            " block2_conv1 (Conv2D)       (None, 112, 112, 128)     73856     \n",
            "                                                                 \n",
            " block2_conv2 (Conv2D)       (None, 112, 112, 128)     147584    \n",
            "                                                                 \n",
            " block2_pool (MaxPooling2D)  (None, 56, 56, 128)       0         \n",
            "                                                                 \n",
            " block3_conv1 (Conv2D)       (None, 56, 56, 256)       295168    \n",
            "                                                                 \n",
            " block3_conv2 (Conv2D)       (None, 56, 56, 256)       590080    \n",
            "                                                                 \n",
            " block3_conv3 (Conv2D)       (None, 56, 56, 256)       590080    \n",
            "                                                                 \n",
            " block3_pool (MaxPooling2D)  (None, 28, 28, 256)       0         \n",
            "                                                                 \n",
            " block4_conv1 (Conv2D)       (None, 28, 28, 512)       1180160   \n",
            "                                                                 \n",
            " block4_conv2 (Conv2D)       (None, 28, 28, 512)       2359808   \n",
            "                                                                 \n",
            " block4_conv3 (Conv2D)       (None, 28, 28, 512)       2359808   \n",
            "                                                                 \n",
            " block4_pool (MaxPooling2D)  (None, 14, 14, 512)       0         \n",
            "                                                                 \n",
            " block5_conv1 (Conv2D)       (None, 14, 14, 512)       2359808   \n",
            "                                                                 \n",
            " block5_conv2 (Conv2D)       (None, 14, 14, 512)       2359808   \n",
            "                                                                 \n",
            " block5_conv3 (Conv2D)       (None, 14, 14, 512)       2359808   \n",
            "                                                                 \n",
            " block5_pool (MaxPooling2D)  (None, 7, 7, 512)         0         \n",
            "                                                                 \n",
            " flatten (Flatten)           (None, 25088)             0         \n",
            "                                                                 \n",
            " dense (Dense)               (None, 3)                 75267     \n",
            "                                                                 \n",
            "=================================================================\n",
            "Total params: 14,789,955\n",
            "Trainable params: 75,267\n",
            "Non-trainable params: 14,714,688\n",
            "_________________________________________________________________\n"
          ]
        }
      ]
    },
    {
      "cell_type": "code",
      "source": [
        "\n",
        "\n",
        "model.compile(\n",
        "  loss='categorical_crossentropy',\n",
        "  optimizer='adam',\n",
        "  metrics=['accuracy']\n",
        ")\n",
        "\n"
      ],
      "metadata": {
        "id": "AbzsnSMS7J6D"
      },
      "execution_count": null,
      "outputs": []
    },
    {
      "cell_type": "code",
      "source": [
        "\n",
        "\n",
        "from tensorflow.keras.preprocessing.image import ImageDataGenerator\n",
        "\n",
        "train_datagen = ImageDataGenerator(rescale = 1./255,\n",
        "                                   shear_range = 0.2,\n",
        "                                   zoom_range = 0.2,\n",
        "                                   horizontal_flip = True)\n",
        "\n",
        "test_datagen = ImageDataGenerator(rescale = 1./255)\n",
        "\n"
      ],
      "metadata": {
        "id": "zmY9SLUT7M78"
      },
      "execution_count": null,
      "outputs": []
    },
    {
      "cell_type": "code",
      "source": [
        "\n",
        "\n",
        "# Make sure you provide the same target size as initialied for the image size\n",
        "training_set = train_datagen.flow_from_directory(train_path,\n",
        "                                                 target_size = (224, 224),\n",
        "                                                 batch_size = 32,\n",
        "                                                 shuffle= False,\n",
        "                                                 class_mode = 'categorical')\n",
        "\n"
      ],
      "metadata": {
        "colab": {
          "base_uri": "https://localhost:8080/"
        },
        "id": "zficDsvQ7QA0",
        "outputId": "72e32d92-0286-416f-8387-e272af6dd7e7"
      },
      "execution_count": null,
      "outputs": [
        {
          "output_type": "stream",
          "name": "stdout",
          "text": [
            "Found 251 images belonging to 3 classes.\n"
          ]
        }
      ]
    },
    {
      "cell_type": "code",
      "source": [
        "del training_set"
      ],
      "metadata": {
        "id": "0KfIAPok7oYE"
      },
      "execution_count": null,
      "outputs": []
    },
    {
      "cell_type": "code",
      "source": [
        "\n",
        "\n",
        "test_set = test_datagen.flow_from_directory(valid_path,\n",
        "                                            target_size = (224, 224),\n",
        "                                            batch_size = 32,\n",
        "                                            shuffle=False,\n",
        "                                            class_mode = 'categorical')\n",
        "\n"
      ],
      "metadata": {
        "colab": {
          "base_uri": "https://localhost:8080/"
        },
        "id": "2UuaLIwv7UvM",
        "outputId": "5b6f3e1a-8c1b-483f-f806-f99987d5d8ca"
      },
      "execution_count": null,
      "outputs": [
        {
          "output_type": "stream",
          "name": "stdout",
          "text": [
            "Found 66 images belonging to 3 classes.\n"
          ]
        }
      ]
    },
    {
      "cell_type": "code",
      "source": [
        "r = model.fit_generator(\n",
        "  training_set,\n",
        "  validation_data=test_set,\n",
        "  epochs=15,\n",
        "  steps_per_epoch=len(training_set),\n",
        "  validation_steps=len(test_set)\n",
        ")"
      ],
      "metadata": {
        "colab": {
          "base_uri": "https://localhost:8080/"
        },
        "id": "FowtQQuK70Mn",
        "outputId": "3a88ca12-c1b2-42fb-9666-6986d9069757"
      },
      "execution_count": null,
      "outputs": [
        {
          "output_type": "stream",
          "name": "stderr",
          "text": [
            "/usr/local/lib/python3.7/dist-packages/ipykernel_launcher.py:6: UserWarning: `Model.fit_generator` is deprecated and will be removed in a future version. Please use `Model.fit`, which supports generators.\n",
            "  \n"
          ]
        },
        {
          "output_type": "stream",
          "name": "stdout",
          "text": [
            "Epoch 1/15\n",
            "8/8 [==============================] - 88s 9s/step - loss: 3.5532 - accuracy: 0.1833 - val_loss: 2.3981 - val_accuracy: 0.3030\n",
            "Epoch 2/15\n",
            "8/8 [==============================] - 17s 2s/step - loss: 1.5173 - accuracy: 0.3705 - val_loss: 0.9962 - val_accuracy: 0.4091\n",
            "Epoch 3/15\n",
            "8/8 [==============================] - 17s 2s/step - loss: 0.8093 - accuracy: 0.7331 - val_loss: 0.3629 - val_accuracy: 0.8636\n",
            "Epoch 4/15\n",
            "8/8 [==============================] - 18s 2s/step - loss: 0.6326 - accuracy: 0.7809 - val_loss: 0.5886 - val_accuracy: 0.7121\n",
            "Epoch 5/15\n",
            "8/8 [==============================] - 17s 2s/step - loss: 0.3972 - accuracy: 0.8725 - val_loss: 0.3915 - val_accuracy: 0.8182\n",
            "Epoch 6/15\n",
            "8/8 [==============================] - 18s 2s/step - loss: 0.2403 - accuracy: 0.9163 - val_loss: 0.7059 - val_accuracy: 0.7424\n",
            "Epoch 7/15\n",
            "8/8 [==============================] - 17s 2s/step - loss: 0.3359 - accuracy: 0.8606 - val_loss: 0.2898 - val_accuracy: 0.8485\n",
            "Epoch 8/15\n",
            "8/8 [==============================] - 17s 2s/step - loss: 0.2172 - accuracy: 0.9004 - val_loss: 0.2518 - val_accuracy: 0.8939\n",
            "Epoch 9/15\n",
            "8/8 [==============================] - 17s 2s/step - loss: 0.1558 - accuracy: 0.9402 - val_loss: 0.5137 - val_accuracy: 0.7727\n",
            "Epoch 10/15\n",
            "8/8 [==============================] - 17s 2s/step - loss: 0.2341 - accuracy: 0.9124 - val_loss: 0.1639 - val_accuracy: 0.9242\n",
            "Epoch 11/15\n",
            "8/8 [==============================] - 17s 2s/step - loss: 0.1697 - accuracy: 0.9363 - val_loss: 0.1466 - val_accuracy: 0.9394\n",
            "Epoch 12/15\n",
            "8/8 [==============================] - 17s 2s/step - loss: 0.0768 - accuracy: 0.9721 - val_loss: 0.1988 - val_accuracy: 0.8939\n",
            "Epoch 13/15\n",
            "8/8 [==============================] - 17s 2s/step - loss: 0.0871 - accuracy: 0.9761 - val_loss: 0.1295 - val_accuracy: 0.9545\n",
            "Epoch 14/15\n",
            "8/8 [==============================] - 17s 2s/step - loss: 0.0702 - accuracy: 0.9841 - val_loss: 0.1252 - val_accuracy: 0.9545\n",
            "Epoch 15/15\n",
            "8/8 [==============================] - 17s 2s/step - loss: 0.0728 - accuracy: 0.9761 - val_loss: 0.1212 - val_accuracy: 0.9545\n"
          ]
        }
      ]
    },
    {
      "cell_type": "code",
      "source": [
        "N = 15\n",
        "\n",
        "plt.figure()\n",
        "plt.plot(np.arange(0, N), r.history[\"loss\"], label=\"Training Loss\")\n",
        "plt.plot(np.arange(0, N), r.history[\"val_loss\"], label=\"Validation Loss\")\n",
        "plt.title(\"Training Loss and Validation Loss\")\n",
        "plt.xlabel(\"Epoch\")\n",
        "plt.ylabel(\"Loss\")\n",
        "plt.legend(loc=\"lower left\")"
      ],
      "metadata": {
        "colab": {
          "base_uri": "https://localhost:8080/",
          "height": 314
        },
        "id": "l93xdmgb-Hlv",
        "outputId": "e2a4253a-ba5b-40c5-a400-a0ab14d2aa99"
      },
      "execution_count": null,
      "outputs": [
        {
          "output_type": "execute_result",
          "data": {
            "text/plain": [
              "<matplotlib.legend.Legend at 0x7f6405dc1d50>"
            ]
          },
          "metadata": {},
          "execution_count": 13
        },
        {
          "output_type": "display_data",
          "data": {
            "image/png": "[encoded data removed]",
            "text/plain": [
              "<Figure size 432x288 with 1 Axes>"
            ]
          },
          "metadata": {
            "needs_background": "light"
          }
        }
      ]
    },
    {
      "cell_type": "code",
      "source": [
        "plt.figure()\n",
        "plt.plot(np.arange(0, N), r.history[\"accuracy\"], label=\"Training Accuracy\")\n",
        "plt.plot(np.arange(0, N), r.history[\"val_accuracy\"], label=\"Validation Accuracy\")\n",
        "plt.title(\"Training Accuracy and Validation Accuracy\")\n",
        "plt.xlabel(\"Epoch\")\n",
        "plt.ylabel(\"Accuracy\")\n",
        "plt.legend(loc=\"lower left\")"
      ],
      "metadata": {
        "colab": {
          "base_uri": "https://localhost:8080/",
          "height": 314
        },
        "id": "IzK7qUgT-PP9",
        "outputId": "cf3b93a0-0d09-4d0a-a85a-8bdb52f38147"
      },
      "execution_count": null,
      "outputs": [
        {
          "output_type": "execute_result",
          "data": {
            "text/plain": [
              "<matplotlib.legend.Legend at 0x7f6405d2ac50>"
            ]
          },
          "metadata": {},
          "execution_count": 14
        },
        {
          "output_type": "display_data",
          "data": {
            "image/png": "[encoded data removed]",
            "text/plain": [
              "<Figure size 432x288 with 1 Axes>"
            ]
          },
          "metadata": {
            "needs_background": "light"
          }
        }
      ]
    },
    {
      "cell_type": "code",
      "source": [
        "%cd /content/drive/MyDrive/dataset/covid19/saved model"
      ],
      "metadata": {
        "colab": {
          "base_uri": "https://localhost:8080/"
        },
        "id": "4tqkZNFT-Yid",
        "outputId": "8e4584a1-8170-4a61-fb46-74b166b0f61b"
      },
      "execution_count": null,
      "outputs": [
        {
          "output_type": "stream",
          "name": "stdout",
          "text": [
            "/content/drive/MyDrive/dataset/covid19/saved model\n"
          ]
        }
      ]
    },
    {
      "cell_type": "code",
      "source": [
        "!ls"
      ],
      "metadata": {
        "colab": {
          "base_uri": "https://localhost:8080/"
        },
        "id": "sXbl-tgr-gSu",
        "outputId": "e7ae5694-b7f4-4134-bcc2-7a10770f13a8"
      },
      "execution_count": null,
      "outputs": [
        {
          "output_type": "stream",
          "name": "stdout",
          "text": [
            " AccuracyPlotWMF.png   model2.h5     model4CNNbiasa.h5\t model7VGG16.h5\n",
            "'Copy of Model.h5'     model2.json   model5Resnet50.h5\n",
            " LossPlotWMF.png       model3.h5     model6Resnet50.h5\n"
          ]
        }
      ]
    },
    {
      "cell_type": "code",
      "source": [
        "model.save(\"model7VGG16.h5\")"
      ],
      "metadata": {
        "id": "yr3xKDWT-aJ9"
      },
      "execution_count": null,
      "outputs": []
    },
    {
      "cell_type": "code",
      "source": [
        "from keras.models import load_model\n",
        "model = load_model('model7VGG16.h5')"
      ],
      "metadata": {
        "id": "jq7e6oV-AVU-"
      },
      "execution_count": null,
      "outputs": []
    },
    {
      "cell_type": "code",
      "source": [
        "from sklearn.metrics import classification_report, confusion_matrix\n",
        "labels = ['Normal','Covid19','Pnuemonia']"
      ],
      "metadata": {
        "id": "1uIkv6AhAdmH"
      },
      "execution_count": null,
      "outputs": []
    },
    {
      "cell_type": "code",
      "source": [
        "import seaborn as sns\n",
        "def evaluate1(val_gen,model):\n",
        "  batch_size = 12\n",
        "  num_of_test_samples = len(val_gen.filenames)\n",
        "\n",
        "  Y_pred = model.predict(val_gen, num_of_test_samples // batch_size+1)\n",
        "  y_pred = np.argmax(Y_pred, axis=1)\n",
        "\n",
        "  cm = confusion_matrix(val_gen.classes, y_pred)\n",
        "  plt.figure(figsize=(8, 8))\n",
        "  sns.heatmap(cm, annot=True, fmt='g', vmin=0, cmap='Blues', cbar=False)\n",
        "  plt.xticks(ticks=[0.5, 1.5, 2.5], labels=labels)\n",
        "  plt.yticks(ticks=[0.5, 1.5, 2.5], labels=labels)\n",
        "  plt.xlabel(\"Predicted\")\n",
        "  plt.ylabel(\"Actual\")\n",
        "  plt.title(\"Confusion Matrix\")\n",
        "  plt.show()\n",
        "  print('\\n\\nClassification Report\\n')\n",
        "  target_names = ['Normal','Covid19','Pnuemonia']\n",
        "  print(classification_report(val_gen.classes, y_pred, target_names=target_names))"
      ],
      "metadata": {
        "id": "6o738DGmAefl"
      },
      "execution_count": null,
      "outputs": []
    },
    {
      "cell_type": "code",
      "source": [
        "evaluate1(test_set, model)"
      ],
      "metadata": {
        "colab": {
          "base_uri": "https://localhost:8080/",
          "height": 773
        },
        "id": "ksn3Ae-2AhFO",
        "outputId": "8fb7b299-9d03-4ae2-bead-1826fad13c4e"
      },
      "execution_count": null,
      "outputs": [
        {
          "output_type": "display_data",
          "data": {
            "image/png": "[encoded data removed]",
            "text/plain": [
              "<Figure size 576x576 with 1 Axes>"
            ]
          },
          "metadata": {
            "needs_background": "light"
          }
        },
        {
          "output_type": "stream",
          "name": "stdout",
          "text": [
            "\n",
            "\n",
            "Classification Report\n",
            "\n",
            "              precision    recall  f1-score   support\n",
            "\n",
            "      Normal       1.00      1.00      1.00        26\n",
            "     Covid19       0.95      0.90      0.92        20\n",
            "   Pnuemonia       0.90      0.95      0.93        20\n",
            "\n",
            "    accuracy                           0.95        66\n",
            "   macro avg       0.95      0.95      0.95        66\n",
            "weighted avg       0.96      0.95      0.95        66\n",
            "\n"
          ]
        }
      ]
    },
    {
      "cell_type": "code",
      "source": [
        "evaluate1(test_set, model)"
      ],
      "metadata": {
        "id": "Th766higYDzr"
      },
      "execution_count": null,
      "outputs": []
    },
    {
      "cell_type": "code",
      "source": [
        "%cd /content/drive/MyDrive/dataset/model_covid/teguh"
      ],
      "metadata": {
        "colab": {
          "base_uri": "https://localhost:8080/"
        },
        "id": "JcgVmhnUS50e",
        "outputId": "8a098d96-479f-4753-956e-45302e118f40"
      },
      "execution_count": null,
      "outputs": [
        {
          "output_type": "stream",
          "name": "stdout",
          "text": [
            "/content/drive/.shortcut-targets-by-id/1bGb4HZR8dQV_0OPxVI657P3WEdvBdwG0/model_covid/teguh\n"
          ]
        }
      ]
    },
    {
      "cell_type": "code",
      "source": [
        "# MLP for Pima Indians Dataset Serialize to JSON and HDF5\n",
        "from keras.models import Sequential\n",
        "from keras.layers import Dense\n",
        "from keras.models import model_from_json\n",
        "import numpy\n",
        "import os"
      ],
      "metadata": {
        "id": "VXl3CEAzTWEO"
      },
      "execution_count": null,
      "outputs": []
    },
    {
      "cell_type": "code",
      "source": [
        "# load json and create model\n",
        "json_file = open('Model.json', 'r')\n",
        "loaded_resnet_json = json_file.read()\n",
        "json_file.close()\n",
        "modelresnet = model_from_json(loaded_resnet_json)\n",
        "# load weights into new model\n",
        "modelresnet.load_weights(\"Model.h5\")\n",
        "print(\"Loaded model from disk\")"
      ],
      "metadata": {
        "colab": {
          "base_uri": "https://localhost:8080/"
        },
        "id": "AGLyZd4YSqPW",
        "outputId": "9c57164e-3e57-4e06-9b89-aac6fef36643"
      },
      "execution_count": null,
      "outputs": [
        {
          "output_type": "stream",
          "name": "stdout",
          "text": [
            "Loaded model from disk\n"
          ]
        }
      ]
    },
    {
      "cell_type": "code",
      "source": [
        "INIT_LR = 1e-4\n",
        "EPOCHS = 10\n",
        "BS = 32"
      ],
      "metadata": {
        "id": "Y-bq3WqVUgQo"
      },
      "execution_count": null,
      "outputs": []
    },
    {
      "cell_type": "code",
      "source": [
        "from tensorflow.keras.optimizers import Adam\n",
        "opt = Adam(lr=INIT_LR, decay=INIT_LR/EPOCHS)\n",
        "modelresnet.compile(loss=\"categorical_crossentropy\", optimizer=opt, metrics=[\"accuracy\"])"
      ],
      "metadata": {
        "colab": {
          "base_uri": "https://localhost:8080/"
        },
        "id": "RnJQYx-IUZ8Q",
        "outputId": "92fd984b-bfd2-46e7-bdce-e20565d67c47"
      },
      "execution_count": null,
      "outputs": [
        {
          "output_type": "stream",
          "name": "stderr",
          "text": [
            "/usr/local/lib/python3.7/dist-packages/keras/optimizer_v2/adam.py:105: UserWarning: The `lr` argument is deprecated, use `learning_rate` instead.\n",
            "  super(Adam, self).__init__(name, **kwargs)\n"
          ]
        }
      ]
    },
    {
      "cell_type": "code",
      "source": [
        "del loaded_model"
      ],
      "metadata": {
        "id": "uSyPEgtbT3ox"
      },
      "execution_count": null,
      "outputs": []
    },
    {
      "cell_type": "code",
      "source": [
        "predIdxs = modelresnet.predict(testX, batch_size=BS)\n",
        "predIdxs = np.argmax(predIdxs, axis=1)\n",
        "\n",
        "Accuracy = (accuracy_score(testY.argmax(axis=1),predIdxs)*100)\n",
        "print('TEST ACCURACY in Percentage:', round(Accuracy,2),'%')\n",
        "print(\"\")\n",
        "print(\"-------------------------------------------------------------------\")\n",
        "print(\"\")\n",
        "print(\"CLASSIFICATION REPORT:\")\n",
        "print(\"\")\n",
        "print(classification_report(testY.argmax(axis=1), predIdxs, target_names=lb.classes_))"
      ],
      "metadata": {
        "colab": {
          "base_uri": "https://localhost:8080/"
        },
        "id": "d-AoWUjFTbfe",
        "outputId": "e68a181a-4ff4-417c-e0aa-47fa6b095316"
      },
      "execution_count": null,
      "outputs": [
        {
          "output_type": "stream",
          "name": "stdout",
          "text": [
            "TEST ACCURACY in Percentage: 96.97 %\n",
            "\n",
            "-------------------------------------------------------------------\n",
            "\n",
            "CLASSIFICATION REPORT:\n",
            "\n",
            "                 precision    recall  f1-score   support\n",
            "\n",
            "          Covid       1.00      0.96      0.98        26\n",
            "         Normal       1.00      0.95      0.97        20\n",
            "Viral Pneumonia       0.91      1.00      0.95        20\n",
            "\n",
            "       accuracy                           0.97        66\n",
            "      macro avg       0.97      0.97      0.97        66\n",
            "   weighted avg       0.97      0.97      0.97        66\n",
            "\n"
          ]
        }
      ]
    },
    {
      "cell_type": "code",
      "source": [
        "from PIL import Image\n",
        "from keras.preprocessing import image\n",
        "label =  {0:\"covid\",1:\"normal\",2:'pneumonia'}\n",
        "\n",
        "img_ = image.load_img(\"/content/drive/MyDrive/dataset/covid19/Covid19-dataset/test/Normal/0119.jpeg\", target_size=(224, 224))\n",
        "imag = image.img_to_array(img_)\n",
        "imag = np.expand_dims(imag, axis=0)\n",
        "pred = modelresnet.predict(imag)\n",
        "pred = np.argmax(pred,axis=1)\n",
        "print(pred)\n",
        "print(label[pred[0]])\n",
        "plt.imshow(img_)"
      ],
      "metadata": {
        "colab": {
          "base_uri": "https://localhost:8080/",
          "height": 325
        },
        "id": "Zs3_-dUaVlrO",
        "outputId": "815ceeb0-9378-4ec3-c4c2-cccdfe192a1d"
      },
      "execution_count": null,
      "outputs": [
        {
          "output_type": "stream",
          "name": "stdout",
          "text": [
            "[1]\n",
            "normal\n"
          ]
        },
        {
          "output_type": "execute_result",
          "data": {
            "text/plain": [
              "<matplotlib.image.AxesImage at 0x7fbfae800390>"
            ]
          },
          "metadata": {},
          "execution_count": 26
        },
        {
          "output_type": "display_data",
          "data": {
            "image/png": "[encoded data removed]",
            "text/plain": [
              "<Figure size 432x288 with 1 Axes>"
            ]
          },
          "metadata": {
            "needs_background": "light"
          }
        }
      ]
    }
  ]
}
